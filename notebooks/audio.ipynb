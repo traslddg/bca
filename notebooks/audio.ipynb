{
 "cells": [
  {
   "cell_type": "code",
   "execution_count": null,
   "id": "8c876e6a-ec3a-4d14-a23f-1edb562d47b4",
   "metadata": {},
   "outputs": [],
   "source": [
    "import pyaudio\n",
    "\n",
    "p = pyaudio.PyAudio()"
   ]
  },
  {
   "cell_type": "code",
   "execution_count": null,
   "id": "593d6934-498b-4dce-aefe-92415a633dc3",
   "metadata": {},
   "outputs": [],
   "source": [
    "https://github.com/python-acoustics/python-acoustics"
   ]
  },
  {
   "cell_type": "code",
   "execution_count": null,
   "id": "7a384503-25d5-43fe-a35c-ac820450c3dc",
   "metadata": {},
   "outputs": [],
   "source": [
    "# Convert it to wav format (16 bits)\n",
    "wav_wave = np.array(wave, dtype=np.int16)"
   ]
  },
  {
   "cell_type": "code",
   "execution_count": null,
   "id": "9b219f56-385c-43cf-b9b6-405e4a176767",
   "metadata": {},
   "outputs": [],
   "source": []
  },
  {
   "cell_type": "code",
   "execution_count": null,
   "id": "98c88276-00b1-4d8e-b67c-bad9eabaf0a2",
   "metadata": {},
   "outputs": [],
   "source": [
    "import numpy as np\n",
    "import matplotlib.pyplot as plt\n",
    "from IPython.display import Audio, display"
   ]
  },
  {
   "cell_type": "code",
   "execution_count": null,
   "id": "2556c82c-eea9-4766-aa8c-4a033b05a424",
   "metadata": {},
   "outputs": [],
   "source": [
    "rate = 16000\n",
    "duration = 0.5\n",
    "t = np.linspace(0, duration, int(rate * duration))"
   ]
  },
  {
   "cell_type": "code",
   "execution_count": null,
   "id": "caf742f7-b6ec-439f-8c66-c22df04a7c16",
   "metadata": {},
   "outputs": [],
   "source": [
    "def synth(f):\n",
    "    x = np.sin(f * 2. * np.pi * t)\n",
    "    display(Audio(x, rate=rate, autoplay=False))"
   ]
  },
  {
   "cell_type": "code",
   "execution_count": null,
   "id": "bca930ef-a3c7-4c11-b82b-91ccd7e003dc",
   "metadata": {},
   "outputs": [],
   "source": [
    "synth(440)"
   ]
  },
  {
   "cell_type": "code",
   "execution_count": null,
   "id": "0f07bffc-edb0-4212-846b-60f6e84842a4",
   "metadata": {},
   "outputs": [],
   "source": [
    "notes = 'C,C#,D,D#,E,F,F#,G,G#,A,A#,B,C'.split(',')\n",
    "freqs = 440 * 2**(np.arange(3, 3 + len(notes)) / 12)\n",
    "notes = list(zip(notes, freqs))\n",
    "print(notes)"
   ]
  },
  {
   "cell_type": "code",
   "execution_count": null,
   "id": "11bb521e-608e-4c63-b599-7f7d94331223",
   "metadata": {},
   "outputs": [],
   "source": [
    "for note, f in notes:\n",
    "    \n",
    "    print(note)\n",
    "    synth(f)"
   ]
  },
  {
   "cell_type": "code",
   "execution_count": null,
   "id": "c58818a7-aa6e-4a51-a1a8-87915319f7f4",
   "metadata": {},
   "outputs": [],
   "source": [
    "!pip install librosa"
   ]
  },
  {
   "cell_type": "code",
   "execution_count": null,
   "id": "f7d7de10-f101-4860-8de9-d3292eeae80b",
   "metadata": {},
   "outputs": [],
   "source": [
    "import numpy as np\n",
    "import matplotlib.pyplot as plt\n",
    "\n",
    "from IPython.display import Audio\n",
    "\n",
    "import librosa\n",
    "import librosa.display"
   ]
  },
  {
   "cell_type": "code",
   "execution_count": null,
   "id": "04335dfb-7010-4a1c-94b1-329cc683fa2f",
   "metadata": {},
   "outputs": [],
   "source": [
    "# Load an example clip with harmonics and percussives\n",
    "y, sr = librosa.load(librosa.ex('fishin'), duration=5, offset=10)\n",
    "\n",
    "Audio(data=y, rate=sr)"
   ]
  },
  {
   "cell_type": "code",
   "execution_count": null,
   "id": "4f4231d6-7164-4367-a64b-85df74ac520e",
   "metadata": {},
   "outputs": [],
   "source": [
    "# Compute the short-time Fourier transform of y\n",
    "D = librosa.stft(y)"
   ]
  },
  {
   "cell_type": "code",
   "execution_count": null,
   "id": "8b30b3cf-f489-482d-b29f-8a734894c1cf",
   "metadata": {},
   "outputs": [],
   "source": [
    "# Decompose D into harmonic and percussive components\n",
    "D_harmonic, D_percussive = librosa.decompose.hpss(D)\n",
    "\n",
    "# The default HPSS above assigns energy to each time-frequency bin according to \n",
    "# whether a horizontal (harmonic) or vertical (percussive) filter responds higher at that position."
   ]
  },
  {
   "cell_type": "code",
   "execution_count": null,
   "id": "d878f7bc-6251-4a41-bbd4-d6a7e29c0908",
   "metadata": {},
   "outputs": [],
   "source": [
    "# Pre-compute a global reference power from the input spectrum\n",
    "rp = np.max(np.abs(D))\n",
    "\n",
    "fig, ax = plt.subplots(nrows=3, sharex=True, sharey=True)\n",
    "\n",
    "img = librosa.display.specshow(librosa.amplitude_to_db(np.abs(D), ref=rp),\n",
    "                         y_axis='log', x_axis='time', ax=ax[0])\n",
    "ax[0].set(title='Full spectrogram')\n",
    "ax[0].label_outer()\n",
    "\n",
    "librosa.display.specshow(librosa.amplitude_to_db(np.abs(D_harmonic), ref=rp),\n",
    "                         y_axis='log', x_axis='time', ax=ax[1])\n",
    "ax[1].set(title='Harmonic spectrogram')\n",
    "ax[1].label_outer()\n",
    "\n",
    "librosa.display.specshow(librosa.amplitude_to_db(np.abs(D_percussive), ref=rp),\n",
    "                         y_axis='log', x_axis='time', ax=ax[2])\n",
    "ax[2].set(title='Percussive spectrogram')\n",
    "fig.colorbar(img, ax=ax)"
   ]
  },
  {
   "cell_type": "code",
   "execution_count": null,
   "id": "feee0762-88a2-4a35-bce5-f32ac0b16c5e",
   "metadata": {},
   "outputs": [],
   "source": [
    "y_harmonic = librosa.istft(D_harmonic, length=len(y))\n",
    "Audio(data=y_harmonic, rate=sr)"
   ]
  },
  {
   "cell_type": "code",
   "execution_count": null,
   "id": "c83816d2-bdc4-4937-bf6e-323fd4f29d5c",
   "metadata": {},
   "outputs": [],
   "source": [
    "y_percussive = librosa.istft(D_percussive, length=len(y))\n",
    "Audio(data=y_percussive, rate=sr)"
   ]
  },
  {
   "cell_type": "markdown",
   "id": "ed28f282-12ea-4119-97d6-702a2e6de419",
   "metadata": {},
   "source": [
    "With librosa it's also possible to do [Vocal Separation](https://librosa.org/doc/latest/auto_examples/plot_vocal_separation.html#sphx-glr-auto-examples-plot-vocal-separation-py)"
   ]
  }
 ],
 "metadata": {
  "kernelspec": {
   "display_name": "Python 3 (ipykernel)",
   "language": "python",
   "name": "python3"
  },
  "language_info": {
   "codemirror_mode": {
    "name": "ipython",
    "version": 3
   },
   "file_extension": ".py",
   "mimetype": "text/x-python",
   "name": "python",
   "nbconvert_exporter": "python",
   "pygments_lexer": "ipython3",
   "version": "3.9.13"
  }
 },
 "nbformat": 4,
 "nbformat_minor": 5
}
